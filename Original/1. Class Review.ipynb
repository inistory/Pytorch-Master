{
 "cells": [
  {
   "cell_type": "markdown",
   "id": "e2834381",
   "metadata": {},
   "source": [
    "![man](imgs"
   ]
  },
  {
   "cell_type": "markdown",
   "id": "05e88576",
   "metadata": {},
   "source": [
    "# 클래스의 중요 개념  \n",
    "1. 멤버변수  \n",
    "2. 생성자    \n",
    "3. 메소드 (멤버함수)  \n",
    "4. 인스턴스  \n",
    "5. 멤버접근 연산자  \n",
    "6. 상속  "
   ]
  },
  {
   "cell_type": "code",
   "execution_count": 37,
   "id": "24e34dbf",
   "metadata": {},
   "outputs": [],
   "source": [
    "import numpy as np\n",
    "\n",
    "class Tensor:\n",
    "    def __init__(self, input_):\n",
    "        self.tensor = np.array(input_)\n",
    "        self.size = self.tensor.size\n",
    "        self.shape = self.tensor.shape\n",
    "        \n",
    "    def __add__(self, other):\n",
    "        return self.tensor + other.tensor\n",
    "    \n",
    "    def __sub__(self, other):\n",
    "        return self.tensor - other.tensor\n",
    "    \n",
    "    def matmul(self, other):\n",
    "        return self.tensor @ other.tensor\n",
    "    \n",
    "    # 숙제 : element wise product 기능을 수행하는 함수를 구현하세요\n",
    "    def ewp(self, other):\n",
    "        return self.tensor * other.tensor\n",
    "        "
   ]
  },
  {
   "cell_type": "code",
   "execution_count": 38,
   "id": "bb87c70e",
   "metadata": {},
   "outputs": [],
   "source": [
    "a = Tensor([[[1, 2, 3],\n",
    "             [4, 5, 6],\n",
    "             [7, 8, 9]], \n",
    "           [[10, 11, 12],\n",
    "             [13, 14, 15],\n",
    "             [16, 17, 18]], \n",
    "           [[19, 20, 21],\n",
    "             [22, 23, 24],\n",
    "             [25, 26, 27]]\n",
    "           ])\n",
    "\n",
    "b = Tensor([[[1, 2, 3],\n",
    "             [4, 5, 6],\n",
    "             [7, 8, 9]], \n",
    "           [[10, 11, 12],\n",
    "             [13, 14, 15],\n",
    "             [16, 17, 18]], \n",
    "           [[19, 20, 21],\n",
    "             [22, 23, 24],\n",
    "             [25, 26, 27]]\n",
    "           ])"
   ]
  },
  {
   "cell_type": "code",
   "execution_count": 39,
   "id": "a2ca4742",
   "metadata": {},
   "outputs": [
    {
     "data": {
      "text/plain": [
       "27"
      ]
     },
     "execution_count": 39,
     "metadata": {},
     "output_type": "execute_result"
    }
   ],
   "source": [
    "a.size"
   ]
  },
  {
   "cell_type": "code",
   "execution_count": 40,
   "id": "23bd1e44",
   "metadata": {},
   "outputs": [
    {
     "data": {
      "text/plain": [
       "(3, 3, 3)"
      ]
     },
     "execution_count": 40,
     "metadata": {},
     "output_type": "execute_result"
    }
   ],
   "source": [
    "a.shape"
   ]
  },
  {
   "cell_type": "code",
   "execution_count": 41,
   "id": "e8fba76f",
   "metadata": {
    "scrolled": false
   },
   "outputs": [
    {
     "name": "stdout",
     "output_type": "stream",
     "text": [
      "[[[ 2  4  6]\n",
      "  [ 8 10 12]\n",
      "  [14 16 18]]\n",
      "\n",
      " [[20 22 24]\n",
      "  [26 28 30]\n",
      "  [32 34 36]]\n",
      "\n",
      " [[38 40 42]\n",
      "  [44 46 48]\n",
      "  [50 52 54]]]\n",
      "[[[0 0 0]\n",
      "  [0 0 0]\n",
      "  [0 0 0]]\n",
      "\n",
      " [[0 0 0]\n",
      "  [0 0 0]\n",
      "  [0 0 0]]\n",
      "\n",
      " [[0 0 0]\n",
      "  [0 0 0]\n",
      "  [0 0 0]]]\n"
     ]
    }
   ],
   "source": [
    "c = a + b\n",
    "print(c)\n",
    "\n",
    "d = a - b\n",
    "print(d)"
   ]
  },
  {
   "cell_type": "code",
   "execution_count": 44,
   "id": "ab1e2e6a",
   "metadata": {},
   "outputs": [
    {
     "name": "stdout",
     "output_type": "stream",
     "text": [
      "[[[  30   36   42]\n",
      "  [  66   81   96]\n",
      "  [ 102  126  150]]\n",
      "\n",
      " [[ 435  468  501]\n",
      "  [ 552  594  636]\n",
      "  [ 669  720  771]]\n",
      "\n",
      " [[1326 1386 1446]\n",
      "  [1524 1593 1662]\n",
      "  [1722 1800 1878]]]\n"
     ]
    }
   ],
   "source": [
    "e = a.matmul(b)\n",
    "print(e)"
   ]
  },
  {
   "cell_type": "code",
   "execution_count": 46,
   "id": "cb99d750",
   "metadata": {},
   "outputs": [
    {
     "name": "stdout",
     "output_type": "stream",
     "text": [
      "[[[  1   4   9]\n",
      "  [ 16  25  36]\n",
      "  [ 49  64  81]]\n",
      "\n",
      " [[100 121 144]\n",
      "  [169 196 225]\n",
      "  [256 289 324]]\n",
      "\n",
      " [[361 400 441]\n",
      "  [484 529 576]\n",
      "  [625 676 729]]]\n"
     ]
    }
   ],
   "source": [
    "f = a.ewp(b)\n",
    "print(f)"
   ]
  },
  {
   "cell_type": "code",
   "execution_count": null,
   "id": "4672e072",
   "metadata": {},
   "outputs": [],
   "source": []
  }
 ],
 "metadata": {
  "kernelspec": {
   "display_name": "Python 3 (ipykernel)",
   "language": "python",
   "name": "python3"
  },
  "language_info": {
   "codemirror_mode": {
    "name": "ipython",
    "version": 3
   },
   "file_extension": ".py",
   "mimetype": "text/x-python",
   "name": "python",
   "nbconvert_exporter": "python",
   "pygments_lexer": "ipython3",
   "version": "3.7.11"
  }
 },
 "nbformat": 4,
 "nbformat_minor": 5
}
