{
 "cells": [
  {
   "cell_type": "markdown",
   "id": "735b2119",
   "metadata": {},
   "source": [
    " ## 5. 텐서의 연산"
   ]
  },
  {
   "cell_type": "markdown",
   "id": "8bcd518f",
   "metadata": {},
   "source": [
    "파이토치에서 다루는 모든 벡터, 행렬, 텐서들에 대해서  \n",
    "덧셈, 뺄셈, 내적, 외적을 할 수 있습니다.  "
   ]
  },
  {
   "cell_type": "code",
   "execution_count": 2,
   "id": "b22ced10",
   "metadata": {},
   "outputs": [],
   "source": [
    "import torch as th\n",
    "from torch import tensor"
   ]
  },
  {
   "cell_type": "code",
   "execution_count": 32,
   "id": "e30f40b3",
   "metadata": {},
   "outputs": [],
   "source": [
    "vec1 = tensor([1, 2, 3])\n",
    "vec2 = tensor([4, 5, 6])"
   ]
  },
  {
   "cell_type": "code",
   "execution_count": 33,
   "id": "14aeb9df",
   "metadata": {},
   "outputs": [
    {
     "name": "stdout",
     "output_type": "stream",
     "text": [
      "tensor(32)\n"
     ]
    }
   ],
   "source": [
    "# 벡터의 dot product를 위해서는 dot 메소드를 활용합니다. \n",
    "vec3 = vec1.dot(vec2) # 5 + 12 + 21\n",
    "print(vec3)"
   ]
  },
  {
   "cell_type": "code",
   "execution_count": 34,
   "id": "a805d8d0",
   "metadata": {},
   "outputs": [
    {
     "name": "stdout",
     "output_type": "stream",
     "text": [
      "tensor([-3,  6, -3])\n"
     ]
    }
   ],
   "source": [
    "# 벡터의 cross product를 위해서는 cross 메소드를 활용하며 벡터의 길이는 3차원이어야 합니다.\n",
    "cvec = th.cross(vec1, vec2)\n",
    "print(cvec)"
   ]
  },
  {
   "cell_type": "code",
   "execution_count": 35,
   "id": "52fd0f61",
   "metadata": {},
   "outputs": [
    {
     "name": "stdout",
     "output_type": "stream",
     "text": [
      "tensor([ 4, 10, 18])\n"
     ]
    }
   ],
   "source": [
    "# 에스터리스크(asterisk) * 기호는 element wise prodict를 수행합니다. \n",
    "vec4 = vec1 * vec2\n",
    "print(vec4)"
   ]
  },
  {
   "cell_type": "code",
   "execution_count": 9,
   "id": "3a601332",
   "metadata": {},
   "outputs": [],
   "source": [
    "mat1 = tensor([[1, 2],\n",
    "               [3, 4]])\n",
    "mat2 = tensor([[5, 6],\n",
    "               [7, 8]])"
   ]
  },
  {
   "cell_type": "code",
   "execution_count": 10,
   "id": "f3ec6697",
   "metadata": {},
   "outputs": [
    {
     "name": "stdout",
     "output_type": "stream",
     "text": [
      "tensor([[ 5, 12],\n",
      "        [21, 32]])\n"
     ]
    }
   ],
   "source": [
    "# 행렬에서도 마찬가지로 원소곱을 수행합니다. \n",
    "mat3 = mat1 * mat2\n",
    "print(mat3)"
   ]
  },
  {
   "cell_type": "code",
   "execution_count": 98,
   "id": "78bfcae8",
   "metadata": {},
   "outputs": [
    {
     "name": "stdout",
     "output_type": "stream",
     "text": [
      "tensor([[19, 22],\n",
      "        [43, 50]])\n",
      "tensor([[19, 22],\n",
      "        [43, 50]])\n"
     ]
    }
   ],
   "source": [
    "# at sign @ 기호는 행렬곱을 수행하게 됩니다. \n",
    "# matmul 함수를 통해서도 행렬곱을 계산할 수 있습니다. \n",
    "mat4 = mat1 @ mat2\n",
    "mat5 = mat1.matmul(mat2) \n",
    "print(mat4)\n",
    "print(mat5)\n"
   ]
  },
  {
   "cell_type": "code",
   "execution_count": 14,
   "id": "acd42b35",
   "metadata": {},
   "outputs": [
    {
     "name": "stdout",
     "output_type": "stream",
     "text": [
      "tensor([[[ 2,  4,  6],\n",
      "         [ 8, 10, 12],\n",
      "         [14, 16, 18]],\n",
      "\n",
      "        [[20, 22, 24],\n",
      "         [26, 28, 30],\n",
      "         [32, 34, 36]],\n",
      "\n",
      "        [[38, 40, 42],\n",
      "         [44, 46, 48],\n",
      "         [50, 52, 54]]])\n"
     ]
    }
   ],
   "source": [
    "ten1 = tensor([[[1, 2, 3],\n",
    "                [4, 5, 6],\n",
    "                [7, 8, 9]], \n",
    "              [[10, 11, 12],\n",
    "                [13, 14, 15],\n",
    "                [16, 17, 18]], \n",
    "              [[19, 20, 21],\n",
    "                [22, 23, 24],\n",
    "                [25, 26, 27]], \n",
    "                ])\n",
    "ten2 = 2 * tensor([[[1, 2, 3],\n",
    "                [4, 5, 6],\n",
    "                [7, 8, 9]], \n",
    "              [[10, 11, 12],\n",
    "                [13, 14, 15],\n",
    "                [16, 17, 18]], \n",
    "              [[19, 20, 21],\n",
    "                [22, 23, 24],\n",
    "                [25, 26, 27]], \n",
    "                ])"
   ]
  },
  {
   "cell_type": "code",
   "execution_count": 17,
   "id": "80cb9a4d",
   "metadata": {},
   "outputs": [
    {
     "name": "stdout",
     "output_type": "stream",
     "text": [
      "tensor([[[   2,    8,   18],\n",
      "         [  32,   50,   72],\n",
      "         [  98,  128,  162]],\n",
      "\n",
      "        [[ 200,  242,  288],\n",
      "         [ 338,  392,  450],\n",
      "         [ 512,  578,  648]],\n",
      "\n",
      "        [[ 722,  800,  882],\n",
      "         [ 968, 1058, 1152],\n",
      "         [1250, 1352, 1458]]])\n"
     ]
    }
   ],
   "source": [
    "ten3 = ten1 * ten2\n",
    "print(ten3)"
   ]
  },
  {
   "cell_type": "code",
   "execution_count": 19,
   "id": "444bbfbe",
   "metadata": {},
   "outputs": [
    {
     "name": "stdout",
     "output_type": "stream",
     "text": [
      "tensor([[[  60,   72,   84],\n",
      "         [ 132,  162,  192],\n",
      "         [ 204,  252,  300]],\n",
      "\n",
      "        [[ 870,  936, 1002],\n",
      "         [1104, 1188, 1272],\n",
      "         [1338, 1440, 1542]],\n",
      "\n",
      "        [[2652, 2772, 2892],\n",
      "         [3048, 3186, 3324],\n",
      "         [3444, 3600, 3756]]])\n"
     ]
    }
   ],
   "source": [
    "ten4 = ten1 @ ten2\n",
    "print(ten4)"
   ]
  },
  {
   "cell_type": "markdown",
   "id": "f2b06a55",
   "metadata": {},
   "source": [
    "## 6. 텐서 차원 조작  *** 중요!!! ***\n",
    "딥러닝 모델에 데이터를 입력하기 위해 텐서의 차원을 정말 잘 다루어야 합니다.   \n",
    "이때 차원을 조작하는 메소드로는 다음과 같습니다. flatten(), reshape(), view()가 있습니다. \n",
    "1) 차원 축소, 확장 :  squeeze(), unsqueeze()  \n",
    "2) 차원 교환 : transpose(), permute()  \n",
    "3) 차원 조정 : flatten(), view() reshape()  \n",
    "4) 텐서 합성 및 적재 : cat() stack()  "
   ]
  },
  {
   "cell_type": "markdown",
   "id": "c34a7581",
   "metadata": {},
   "source": [
    "### 6.1 차원 축소, 확장 :  squeeze(), unsqueeze()  "
   ]
  },
  {
   "cell_type": "code",
   "execution_count": 47,
   "id": "c7a71faf",
   "metadata": {
    "scrolled": true
   },
   "outputs": [
    {
     "name": "stdout",
     "output_type": "stream",
     "text": [
      "torch.Size([10, 32, 1, 1, 64, 64, 3])\n"
     ]
    }
   ],
   "source": [
    "# torch.ones(shape) 를 통해 모든 값이 1인 텐서를 쉽게 만들 수 있습니다. \n",
    "# 마찬가지로 torch.zeros(shape)도 가능합니다. \n",
    "tensor_7d = th.ones([10, 32, 1, 1, 64, 64, 3])\n",
    "print(tensor_7d.shape)"
   ]
  },
  {
   "cell_type": "code",
   "execution_count": 50,
   "id": "bdd1a351",
   "metadata": {},
   "outputs": [
    {
     "name": "stdout",
     "output_type": "stream",
     "text": [
      "torch.Size([10, 32, 1, 64, 64, 3])\n",
      "torch.Size([10, 32, 64, 64, 3])\n"
     ]
    }
   ],
   "source": [
    "# torch.squeeze() 함수는 차원의 크기가 1인 축을 제거합니다. \n",
    "tensor_6d = tensor_7d.squeeze(axis=2) # shape에서 2번째 인덱스를 제거\n",
    "tensor_5d = tensor_7d.squeeze() # axis를 넣지 않으면 모든 축을 제거합니다.\n",
    "print(tensor_6d.shape)\n",
    "print(tensor_5d.shape)"
   ]
  },
  {
   "cell_type": "code",
   "execution_count": 52,
   "id": "37569b8a",
   "metadata": {},
   "outputs": [
    {
     "name": "stdout",
     "output_type": "stream",
     "text": [
      "torch.Size([32, 3, 64, 64])\n"
     ]
    }
   ],
   "source": [
    "tensor_4d = th.ones([32, 3, 64, 64])\n",
    "print(tensor_4d.shape)"
   ]
  },
  {
   "cell_type": "code",
   "execution_count": 53,
   "id": "a575da62",
   "metadata": {},
   "outputs": [
    {
     "name": "stdout",
     "output_type": "stream",
     "text": [
      "torch.Size([1, 32, 3, 64, 64])\n"
     ]
    }
   ],
   "source": [
    "# torch.unsqueeze(axis=m) 텐서의 m번째 축에 크기가 1인 차원을 추가합니다. \n",
    "tensor_5d = tensor_4d.unsqueeze(0)\n",
    "print(tensor_5d.shape)"
   ]
  },
  {
   "cell_type": "markdown",
   "id": "4f74beb2",
   "metadata": {},
   "source": [
    "### 6.2 차원 교환 : transpose(), permute()  \n",
    "위 메소드들은 주로 데이터를 변환할 때 많이 사용합니다.  \n"
   ]
  },
  {
   "cell_type": "code",
   "execution_count": 54,
   "id": "1b78fe41",
   "metadata": {},
   "outputs": [
    {
     "name": "stdout",
     "output_type": "stream",
     "text": [
      "torch.Size([2, 3])\n"
     ]
    }
   ],
   "source": [
    "matrix = th.ones([2,3])\n",
    "print(matrix.shape)"
   ]
  },
  {
   "cell_type": "code",
   "execution_count": 58,
   "id": "e9c6307d",
   "metadata": {},
   "outputs": [
    {
     "name": "stdout",
     "output_type": "stream",
     "text": [
      "torch.Size([3, 2])\n",
      "torch.Size([6, 2, 4, 11])\n"
     ]
    }
   ],
   "source": [
    "# transpose(input, dim0, dim2)는 인풋 텐서의 두 차원을 바꿉니다. \n",
    "transposed = th.transpose(matrix, 0, 1)\n",
    "print(transposed.shape)\n",
    "\n",
    "ten = th.ones([4, 2, 6, 11])\n",
    "trans_ten = ten.transpose(0, 2)\n",
    "print(trans_ten.shape)"
   ]
  },
  {
   "cell_type": "code",
   "execution_count": 60,
   "id": "62d00f7b",
   "metadata": {},
   "outputs": [
    {
     "name": "stdout",
     "output_type": "stream",
     "text": [
      "torch.Size([2, 4, 6, 11])\n"
     ]
    }
   ],
   "source": [
    "permuted_ten = th.permute(ten, (1, 0, 2, 3))\n",
    "print(permuted_ten.shape)"
   ]
  },
  {
   "cell_type": "markdown",
   "id": "fcbf843f",
   "metadata": {},
   "source": [
    "### 6.3 차원 조정 : flatten(),  reshape(), view()  \n",
    "위 세 가지 메소드는 주로 CNN 레이어에서 FC 레이어로 오고 갈 때 자주 사용합니다.  "
   ]
  },
  {
   "cell_type": "code",
   "execution_count": 63,
   "id": "844a02a2",
   "metadata": {},
   "outputs": [
    {
     "name": "stdout",
     "output_type": "stream",
     "text": [
      "torch.Size([2, 2, 2])\n"
     ]
    }
   ],
   "source": [
    "# flatten() 메소드는 텐서 전체를 1차원 벡터로 변환합니다. \n",
    "t = tensor([[[1, 2],\n",
    "             [3, 4]],\n",
    "             [[5, 6],\n",
    "             [7, 8]]])\n",
    "print(t.shape)"
   ]
  },
  {
   "cell_type": "code",
   "execution_count": 65,
   "id": "2bd12e4d",
   "metadata": {},
   "outputs": [
    {
     "name": "stdout",
     "output_type": "stream",
     "text": [
      "torch.Size([8])\n"
     ]
    }
   ],
   "source": [
    "flattend_t = th.flatten(t)\n",
    "print(flattend_t.shape)"
   ]
  },
  {
   "cell_type": "code",
   "execution_count": 70,
   "id": "350000de",
   "metadata": {},
   "outputs": [
    {
     "name": "stdout",
     "output_type": "stream",
     "text": [
      "tensor([[1, 2, 3, 4],\n",
      "        [5, 6, 7, 8]])\n",
      "torch.Size([2, 4])\n"
     ]
    }
   ],
   "source": [
    "# 만약 start_dim, end_dim이 주어지면 해당하는 차원만 평탄화하게 됩니다.\n",
    "flattend_t2 = th.flatten(t, start_dim=1)\n",
    "print(flattend_t2)\n",
    "print(flattend_t2.shape)"
   ]
  },
  {
   "cell_type": "code",
   "execution_count": 75,
   "id": "28eb7ff1",
   "metadata": {},
   "outputs": [
    {
     "data": {
      "text/plain": [
       "torch.Size([27])"
      ]
     },
     "execution_count": 75,
     "metadata": {},
     "output_type": "execute_result"
    }
   ],
   "source": [
    "# reshape()는 텐서를 원하는 모양을 가지도록 차원을 조정합니다. \n",
    "# 단 이때, 각각 차원의 총 곱이 원래의 차원과 일치해야 합니다 27 = 9 * 3 = 3 * 3 * 3\n",
    "t2 = th.arange(27)\n",
    "t2.shape"
   ]
  },
  {
   "cell_type": "code",
   "execution_count": 74,
   "id": "903ded57",
   "metadata": {},
   "outputs": [
    {
     "name": "stdout",
     "output_type": "stream",
     "text": [
      "torch.Size([3, 3, 3])\n"
     ]
    }
   ],
   "source": [
    "reshaped_t2 = t2.reshape(3, 3, 3)\n",
    "print(reshaped_t2.shape)"
   ]
  },
  {
   "cell_type": "code",
   "execution_count": 76,
   "id": "36f0742c",
   "metadata": {},
   "outputs": [
    {
     "name": "stdout",
     "output_type": "stream",
     "text": [
      "torch.Size([9, 3])\n"
     ]
    }
   ],
   "source": [
    "reshaped_t2 = t2.reshape(9, 3)\n",
    "print(reshaped_t2.shape)"
   ]
  },
  {
   "cell_type": "code",
   "execution_count": 86,
   "id": "43fc5a29",
   "metadata": {},
   "outputs": [
    {
     "name": "stdout",
     "output_type": "stream",
     "text": [
      "torch.Size([1247, 5, 4])\n",
      "torch.Size([2, 2494, 5])\n",
      "torch.Size([5, 1, 4988])\n"
     ]
    }
   ],
   "source": [
    "# view()는 차원의 크기가 아주 커서 reshape를 통해 계산하기 힘들 때 주로 사용합니다. \n",
    "t3 = th.arange(24940)\n",
    "# 이때 -1 값이 들어가면 해당 축의 차원 크기를 자동으로 계산합니다. \n",
    "viewed_t1 = t3.view(-1, 5, 4) \n",
    "viewed_t2 = t3.view(2, -1, 5) \n",
    "viewed_t3 = t3.view(5, 1, -1) \n",
    "print(viewed_t1.shape)\n",
    "print(viewed_t2.shape)\n",
    "print(viewed_t3.shape)"
   ]
  },
  {
   "cell_type": "markdown",
   "id": "0e43157a",
   "metadata": {},
   "source": [
    "### 6.4 텐서 합성 및 적재 : cat() stack()  \n",
    "마지막으로 텐서를 합성하기 위해 cat()과 stack()을 활용합니다.  \n",
    "cat() 함수는 모델 내부에서 다음 은닉층에 들어가는 텐서들을 조합하기 위해 주로 사용합니다.  \n",
    "\n",
    "stack() 함수는 데이터를 쌓아서 미니배치를 구성할 때 주로 사용합니다.  "
   ]
  },
  {
   "cell_type": "code",
   "execution_count": 88,
   "id": "393d839b",
   "metadata": {},
   "outputs": [
    {
     "name": "stdout",
     "output_type": "stream",
     "text": [
      "tensor([1, 2, 3, 4, 5, 6, 7, 8, 9])\n"
     ]
    }
   ],
   "source": [
    "# cat() 함수는 두 개 이상의 텐서들은 합치게 됩니다. 해당 텐서들의 차원은 반드시 같아야 합니다. \n",
    "vec1 = tensor([1, 2, 3])\n",
    "vec2 = tensor([4, 5, 6])\n",
    "vec3 = tensor([7, 8, 9])\n",
    "vec4 = th.cat([vec1, vec2, vec3])\n",
    "print(vec4)"
   ]
  },
  {
   "cell_type": "code",
   "execution_count": 94,
   "id": "e5f11f8f",
   "metadata": {
    "scrolled": false
   },
   "outputs": [
    {
     "name": "stdout",
     "output_type": "stream",
     "text": [
      "tensor([[1, 2, 3],\n",
      "        [4, 5, 6],\n",
      "        [7, 8, 9]])\n",
      "torch.Size([3, 3])\n",
      "tensor([[1, 4, 7],\n",
      "        [2, 5, 8],\n",
      "        [3, 6, 9]])\n",
      "torch.Size([3, 3])\n"
     ]
    }
   ],
   "source": [
    "# stack() 메소드는 두 개 이상의 텐서들을 특정 축을 기준으로 쌓게 됩니다. 마찬가지로 차원이 같아야 합니다.\n",
    "batch_vec = th.stack([vec1, vec2, vec3], dim=0)\n",
    "print(batch_vec)\n",
    "print(batch_vec.shape)\n",
    "\n",
    "batch_vec2 = th.stack([vec1, vec2, vec3], dim=1)\n",
    "print(batch_vec2)\n",
    "print(batch_vec2.shape)"
   ]
  },
  {
   "cell_type": "code",
   "execution_count": 99,
   "id": "e1a21848",
   "metadata": {
    "scrolled": true
   },
   "outputs": [
    {
     "name": "stdout",
     "output_type": "stream",
     "text": [
      "tensor([-10.0000,  -9.7980,  -9.5960,  -9.3939,  -9.1919,  -8.9899,  -8.7879,\n",
      "         -8.5859,  -8.3838,  -8.1818,  -7.9798,  -7.7778,  -7.5758,  -7.3737,\n",
      "         -7.1717,  -6.9697,  -6.7677,  -6.5657,  -6.3636,  -6.1616,  -5.9596,\n",
      "         -5.7576,  -5.5556,  -5.3535,  -5.1515,  -4.9495,  -4.7475,  -4.5455,\n",
      "         -4.3434,  -4.1414,  -3.9394,  -3.7374,  -3.5354,  -3.3333,  -3.1313,\n",
      "         -2.9293,  -2.7273,  -2.5253,  -2.3232,  -2.1212,  -1.9192,  -1.7172,\n",
      "         -1.5152,  -1.3131,  -1.1111,  -0.9091,  -0.7071,  -0.5051,  -0.3030,\n",
      "         -0.1010,   0.1010,   0.3030,   0.5051,   0.7071,   0.9091,   1.1111,\n",
      "          1.3131,   1.5152,   1.7172,   1.9192,   2.1212,   2.3232,   2.5253,\n",
      "          2.7273,   2.9293,   3.1313,   3.3333,   3.5354,   3.7374,   3.9394,\n",
      "          4.1414,   4.3434,   4.5455,   4.7475,   4.9495,   5.1515,   5.3535,\n",
      "          5.5556,   5.7576,   5.9596,   6.1616,   6.3636,   6.5657,   6.7677,\n",
      "          6.9697,   7.1717,   7.3737,   7.5758,   7.7778,   7.9798,   8.1818,\n",
      "          8.3838,   8.5859,   8.7879,   8.9899,   9.1919,   9.3939,   9.5960,\n",
      "          9.7980,  10.0000])\n"
     ]
    }
   ],
   "source": [
    "a = th.linspace(start=-10, end=10, steps=100)\n",
    "print(a)"
   ]
  },
  {
   "cell_type": "code",
   "execution_count": 109,
   "id": "c2c2a28f",
   "metadata": {},
   "outputs": [
    {
     "name": "stdout",
     "output_type": "stream",
     "text": [
      "tensor([[ 9.7991],\n",
      "        [-6.2551],\n",
      "        [ 6.1521],\n",
      "        [-4.8064],\n",
      "        [-8.3194],\n",
      "        [ 1.6149],\n",
      "        [ 8.6471],\n",
      "        [-0.8763],\n",
      "        [-1.0310],\n",
      "        [ 6.3312],\n",
      "        [ 5.7292],\n",
      "        [ 0.6857],\n",
      "        [ 3.9519],\n",
      "        [-1.7886],\n",
      "        [ 9.2528],\n",
      "        [ 9.2070],\n",
      "        [ 6.7210],\n",
      "        [ 2.2763],\n",
      "        [ 2.9976],\n",
      "        [ 1.7546],\n",
      "        [-7.0631],\n",
      "        [-8.2000],\n",
      "        [-4.7488],\n",
      "        [-9.0531],\n",
      "        [ 9.5853],\n",
      "        [ 0.9388],\n",
      "        [ 9.4711],\n",
      "        [-4.6694],\n",
      "        [-1.2768],\n",
      "        [ 7.8961],\n",
      "        [-4.2001],\n",
      "        [ 4.0929],\n",
      "        [ 9.2284],\n",
      "        [-5.9128],\n",
      "        [ 8.5008],\n",
      "        [ 7.9844],\n",
      "        [-8.4229],\n",
      "        [ 5.3709],\n",
      "        [-3.6932],\n",
      "        [-3.4210],\n",
      "        [ 6.1590],\n",
      "        [-6.3619],\n",
      "        [-8.8534],\n",
      "        [ 1.0057],\n",
      "        [ 4.3291],\n",
      "        [-9.2933],\n",
      "        [ 2.8077],\n",
      "        [-0.1110],\n",
      "        [-5.7887],\n",
      "        [ 7.4747],\n",
      "        [-6.9575],\n",
      "        [-1.6343],\n",
      "        [-3.6310],\n",
      "        [ 5.1953],\n",
      "        [-9.9931],\n",
      "        [ 5.6825],\n",
      "        [ 6.1481],\n",
      "        [ 3.8690],\n",
      "        [-2.7593],\n",
      "        [-1.1429],\n",
      "        [-6.2252],\n",
      "        [-7.0918],\n",
      "        [ 3.6192],\n",
      "        [-1.7847],\n",
      "        [ 9.3291],\n",
      "        [ 1.8495],\n",
      "        [ 4.2401],\n",
      "        [ 9.6752],\n",
      "        [ 3.7934],\n",
      "        [-2.6359],\n",
      "        [-8.6493],\n",
      "        [ 3.9209],\n",
      "        [-5.5183],\n",
      "        [-1.4496],\n",
      "        [-4.4049],\n",
      "        [ 2.7902],\n",
      "        [-5.8233],\n",
      "        [-7.5205],\n",
      "        [ 7.3389],\n",
      "        [-4.6748],\n",
      "        [ 2.4176],\n",
      "        [-4.4724],\n",
      "        [ 6.7663],\n",
      "        [-7.1020],\n",
      "        [ 3.6395],\n",
      "        [-6.7155],\n",
      "        [ 3.9076],\n",
      "        [-3.1647],\n",
      "        [-3.3746],\n",
      "        [ 0.6310],\n",
      "        [ 4.3530],\n",
      "        [ 6.0549],\n",
      "        [ 2.1233],\n",
      "        [-8.6583],\n",
      "        [ 2.6621],\n",
      "        [-0.0943],\n",
      "        [ 1.0456],\n",
      "        [ 3.6252],\n",
      "        [-2.7263],\n",
      "        [-9.0858]])\n"
     ]
    }
   ],
   "source": [
    "import torch.nn.init as init\n",
    "x = init.uniform_(th.Tensor(100, 1), -10, 10)\n",
    "print(x)"
   ]
  },
  {
   "cell_type": "code",
   "execution_count": null,
   "id": "4f770d30",
   "metadata": {},
   "outputs": [],
   "source": [
    "th.mean()\n",
    "th.sum()\n",
    "th.min()\n",
    "th.argmin()\n",
    "th.max()\n",
    "th.argmax()"
   ]
  },
  {
   "cell_type": "markdown",
   "id": "11fcfac2",
   "metadata": {},
   "source": [
    "# 퀴즈 (Hard)\n",
    "1) 길이가 4096인 랜덤벡터를 하나 생성하세요.  \n",
    "2) 벡터를 위에서 배운 메소드들 중 하나를 이용해 (64x64) 정사각행렬로 차원을 조정하세요. \n",
    "3) 1, 2의 과정을 반복해서 정사각행렬을 세 개 만든다음, 각각 텐서의 0번째 축에 크기가 1인 잉여차원을 추가하세요.  \n",
    "4) 0번째 축과 마지막 축을 교환하세요.   \n",
    "5) 리스트에 세 개의 정사각행렬을 담아서 마지막 축을 기준으로 텐서를 합성하세요 -> 64x64x3 텐서가 나와야함  \n",
    "6) 위의 과정을 4번 반복해서 64x64x3 를 쌓아서 4 x 64 x 64 x 3 텐서를 만드세요  "
   ]
  },
  {
   "cell_type": "code",
   "execution_count": 95,
   "id": "0632974a",
   "metadata": {},
   "outputs": [
    {
     "data": {
      "text/plain": [
       "<torch._C.Generator at 0x1cc5edeceb0>"
      ]
     },
     "execution_count": 95,
     "metadata": {},
     "output_type": "execute_result"
    }
   ],
   "source": [
    "th.manual_seed(1030)\n",
    "# code : "
   ]
  },
  {
   "cell_type": "code",
   "execution_count": null,
   "id": "05f2efb9",
   "metadata": {},
   "outputs": [],
   "source": []
  }
 ],
 "metadata": {
  "kernelspec": {
   "display_name": "Python 3 (ipykernel)",
   "language": "python",
   "name": "python3"
  },
  "language_info": {
   "codemirror_mode": {
    "name": "ipython",
    "version": 3
   },
   "file_extension": ".py",
   "mimetype": "text/x-python",
   "name": "python",
   "nbconvert_exporter": "python",
   "pygments_lexer": "ipython3",
   "version": "3.7.11"
  }
 },
 "nbformat": 4,
 "nbformat_minor": 5
}
