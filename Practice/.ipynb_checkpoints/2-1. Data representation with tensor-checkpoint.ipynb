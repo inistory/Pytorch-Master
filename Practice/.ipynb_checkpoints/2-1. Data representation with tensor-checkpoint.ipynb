{
 "cells": [
  {
   "cell_type": "markdown",
   "id": "a51fa754",
   "metadata": {},
   "source": [
    "![torchman](imgs/torchman.jpg)"
   ]
  },
  {
   "cell_type": "markdown",
   "id": "cbc2b93d",
   "metadata": {},
   "source": [
    "이번 차례에는 머신러닝 파이프라인을 살펴보고 데이터를 어떻게 텐서를 통해 표현하는지 살펴보겠습니다  "
   ]
  },
  {
   "cell_type": "markdown",
   "id": "40c57e23",
   "metadata": {},
   "source": [
    "# Deep learning pipeline"
   ]
  },
  {
   "cell_type": "markdown",
   "id": "538f4a8e",
   "metadata": {},
   "source": [
    "![dlpl](imgs/pipelin.png)"
   ]
  },
  {
   "cell_type": "code",
   "execution_count": 1,
   "id": "14dbc313",
   "metadata": {},
   "outputs": [],
   "source": [
    "import torch as th"
   ]
  },
  {
   "cell_type": "markdown",
   "id": "45ffe333",
   "metadata": {},
   "source": [
    "저희가 지금까지 배운 수 체계에는 스칼라, 벡터, 행렬, 텐서가 있었습니다.  \n",
    "그리고 많은 머신러닝 책에서는 아래와 같이 표기합니다.  \n",
    "여러 모듈과 메소드를 통해 파이토치에서 어떻게 텐서를 조작하는지 알아보겠습니다  "
   ]
  },
  {
   "cell_type": "markdown",
   "id": "6717381f",
   "metadata": {},
   "source": [
    "$${스칼라 : x\\quad 0 \\ (0차원) \\\\ \n",
    "벡터 : \\mathbf x \\quad n \\ (1차원) \\\\ \n",
    "행렬 : \\mathbf X \\quad m \\times n \\ (2차원) \\\\\n",
    "텐서 : \\mathcal {X} \\quad l \\times m \\times n \\times \\dots \\  (3차원 이상) }$$"
   ]
  },
  {
   "cell_type": "markdown",
   "id": "8b923721",
   "metadata": {},
   "source": [
    "먼저 들어가기 앞서서 프로그래밍 초반에 배우는 데이터의 타입을 떠올려보겠습니다.  \n",
    "대표적으로 다음과 같습니다. \n",
    "1. Int  \n",
    "2. Double  \n",
    "3. Float  "
   ]
  },
  {
   "cell_type": "markdown",
   "id": "678981a5",
   "metadata": {},
   "source": [
    "일반적으로 torch의 여러가지 텐서모듈을 통해 위의 데이터타입을 가지는 텐서를 생성할 수 있습니다 "
   ]
  },
  {
   "cell_type": "code",
   "execution_count": 2,
   "id": "d1d13fe9",
   "metadata": {},
   "outputs": [],
   "source": [
    "from torch import tensor\n",
    "from torch import FloatTensor as ftensor\n",
    "from torch import DoubleTensor as dtensor"
   ]
  },
  {
   "cell_type": "markdown",
   "id": "b27d252c",
   "metadata": {},
   "source": [
    "텐서 객체는 다음과 같은 형태로 할당하게 됩니다.  \n",
    "tensor = tensor(data, dtype=float32, device='cpu')  \n",
    "텐서 객체를 생성하기 위한 파라미터와 인자는 data, dtype, device가 있습니다.  \n"
   ]
  },
  {
   "cell_type": "markdown",
   "id": "ed13249e",
   "metadata": {},
   "source": [
    "## 1. 스칼라"
   ]
  },
  {
   "cell_type": "markdown",
   "id": "95e3f20f",
   "metadata": {},
   "source": [
    "dtype과 device를 지정하지 않으면 자동으로 dtype을 식별하고 device는 cpu로 할당하게 됩니다.   "
   ]
  },
  {
   "cell_type": "markdown",
   "id": "d2515df1",
   "metadata": {},
   "source": [
    ".item()을 통하여 텐서 객체 내의 단일 스칼라 값을 뽑아낼 수 있습니다. item 메소드는 반드시 스칼라 텐서에서 호출해야 합니다"
   ]
  },
  {
   "cell_type": "markdown",
   "id": "6ca2730a",
   "metadata": {},
   "source": [
    "## 2. 벡터"
   ]
  },
  {
   "cell_type": "code",
   "execution_count": 6,
   "id": "1b4caf49",
   "metadata": {},
   "outputs": [],
   "source": [
    "import numpy as np"
   ]
  },
  {
   "cell_type": "markdown",
   "id": "244a35aa",
   "metadata": {},
   "source": [
    "data에 들어갈 수 있는 컨테이너는 List, Tuple, Numpy array입니다.  \n",
    "파이토치에서 텐서 객체를 만드는 방법은 기존의 numpy와 매우 유사합니다.  "
   ]
  },
  {
   "cell_type": "markdown",
   "id": "7198ca85",
   "metadata": {},
   "source": [
    "## 3. 행렬"
   ]
  },
  {
   "cell_type": "markdown",
   "id": "fae67ecc",
   "metadata": {},
   "source": [
    "이제 행렬 텐서를 만들어보겠습니다.  \n",
    "데이터타입을 행렬로 다루기 시작한다면 device를 gpu로 지정하는게 좋습니다.  \n",
    "이제 데이터를 일일히 생성하기 힘드므로 rand를 사용하겠습니다.  \n",
    "rand를 잘 활용하기 위해 시드를 고정하겠습니다.  "
   ]
  },
  {
   "cell_type": "markdown",
   "id": "6266d24f",
   "metadata": {},
   "source": [
    "![tensor](imgs/tensor.png)"
   ]
  },
  {
   "cell_type": "markdown",
   "id": "0cd6c45b",
   "metadata": {},
   "source": [
    "## 4. 텐서  \n",
    "이제 3차원 이상의 텐서를 만들어보겠습니다.  "
   ]
  },
  {
   "cell_type": "markdown",
   "id": "bf0bd669",
   "metadata": {},
   "source": [
    "# 퀴즈 (Easy)  \n",
    "1) !nvidia-smi 를 통해 현재 gpu의 메모리 사용량을 확인하세요\n",
    "2) 크기가 (100, 100, 100)인 3차원 랜덤 텐서를 gpu 메모리에 할당하세요\n",
    "3) 다시 !nvidia-smi를 통해 gpu 메모리 사용량이 얼마나 늘었는지 계산해보세요"
   ]
  },
  {
   "cell_type": "code",
   "execution_count": null,
   "id": "050e6e53",
   "metadata": {},
   "outputs": [],
   "source": [
    "!nvidia-smi"
   ]
  },
  {
   "cell_type": "code",
   "execution_count": null,
   "id": "fbd78578",
   "metadata": {},
   "outputs": [],
   "source": []
  }
 ],
 "metadata": {
  "kernelspec": {
   "display_name": "Python 3 (ipykernel)",
   "language": "python",
   "name": "python3"
  },
  "language_info": {
   "codemirror_mode": {
    "name": "ipython",
    "version": 3
   },
   "file_extension": ".py",
   "mimetype": "text/x-python",
   "name": "python",
   "nbconvert_exporter": "python",
   "pygments_lexer": "ipython3",
   "version": "3.7.11"
  }
 },
 "nbformat": 4,
 "nbformat_minor": 5
}
