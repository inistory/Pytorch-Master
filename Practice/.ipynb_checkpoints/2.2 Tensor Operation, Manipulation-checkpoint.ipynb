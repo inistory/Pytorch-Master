{
 "cells": [
  {
   "cell_type": "markdown",
   "id": "735b2119",
   "metadata": {},
   "source": [
    " ## 5. 텐서의 연산"
   ]
  },
  {
   "cell_type": "markdown",
   "id": "8bcd518f",
   "metadata": {},
   "source": [
    "파이토치에서 다루는 모든 벡터, 행렬, 텐서들에 대해서  \n",
    "덧셈, 뺄셈, 내적, 외적을 할 수 있습니다.  "
   ]
  },
  {
   "cell_type": "code",
   "execution_count": 2,
   "id": "b22ced10",
   "metadata": {},
   "outputs": [],
   "source": [
    "import torch as th\n",
    "from torch import tensor"
   ]
  },
  {
   "cell_type": "markdown",
   "id": "f2b06a55",
   "metadata": {},
   "source": [
    "## 6. 텐서 차원 조작  *** 중요!!! ***\n",
    "딥러닝 모델에 데이터를 입력하기 위해 텐서의 차원을 정말 잘 다루어야 합니다.   \n",
    "이때 차원을 조작하는 메소드로는 다음과 같습니다. flatten(), reshape(), view()가 있습니다. \n",
    "1) 차원 축소, 확장 :  squeeze(), unsqueeze()  \n",
    "2) 차원 교환 : transpose(), permute()  \n",
    "3) 차원 조정 : flatten(), view() reshape()  \n",
    "4) 텐서 합성 및 적재 : cat() stack()  "
   ]
  },
  {
   "cell_type": "markdown",
   "id": "c34a7581",
   "metadata": {},
   "source": [
    "### 6.1 차원 축소, 확장 :  squeeze(), unsqueeze()  "
   ]
  },
  {
   "cell_type": "markdown",
   "id": "4f74beb2",
   "metadata": {},
   "source": [
    "### 6.2 차원 교환 : transpose(), permute()  \n",
    "위 메소드들은 주로 데이터를 변환할 때 많이 사용합니다.  \n"
   ]
  },
  {
   "cell_type": "code",
   "execution_count": 60,
   "id": "62d00f7b",
   "metadata": {},
   "outputs": [
    {
     "name": "stdout",
     "output_type": "stream",
     "text": [
      "torch.Size([2, 4, 6, 11])\n"
     ]
    }
   ],
   "source": [
    "permuted_ten = th.permute(ten, (1, 0, 2, 3))\n",
    "print(permuted_ten.shape)"
   ]
  },
  {
   "cell_type": "markdown",
   "id": "fcbf843f",
   "metadata": {},
   "source": [
    "### 6.3 차원 조정 : flatten(),  reshape(), view()  \n",
    "위 세 가지 메소드는 주로 CNN 레이어에서 FC 레이어로 오고 갈 때 자주 사용합니다.  "
   ]
  },
  {
   "cell_type": "markdown",
   "id": "0e43157a",
   "metadata": {},
   "source": [
    "### 6.4 텐서 합성 및 적재 : cat() stack()  \n",
    "마지막으로 텐서를 합성하기 위해 cat()과 stack()을 활용합니다.  \n",
    "cat() 함수는 모델 내부에서 다음 은닉층에 들어가는 텐서들을 조합하기 위해 주로 사용합니다.  \n",
    "\n",
    "stack() 함수는 데이터를 쌓아서 미니배치를 구성할 때 주로 사용합니다.  "
   ]
  },
  {
   "cell_type": "code",
   "execution_count": null,
   "id": "4f770d30",
   "metadata": {},
   "outputs": [],
   "source": [
    "th.mean()\n",
    "th.sum()\n",
    "th.min()\n",
    "th.argmin()\n",
    "th.max()\n",
    "th.argmax()"
   ]
  },
  {
   "cell_type": "markdown",
   "id": "11fcfac2",
   "metadata": {},
   "source": [
    "# 퀴즈 (Hard)\n",
    "1) 길이가 4096인 랜덤벡터를 하나 생성하세요.  \n",
    "2) 벡터를 위에서 배운 메소드들 중 하나를 이용해 (64x64) 정사각행렬로 차원을 조정하세요. \n",
    "3) 1, 2의 과정을 반복해서 정사각행렬을 세 개 만든다음, 각각 텐서의 0번째 축에 크기가 1인 잉여차원을 추가하세요.  \n",
    "4) 0번째 축과 마지막 축을 교환하세요.   \n",
    "5) 리스트에 세 개의 정사각행렬을 담아서 마지막 축을 기준으로 텐서를 합성하세요 -> 64x64x3 텐서가 나와야함  \n",
    "6) 위의 과정을 4번 반복해서 64x64x3 를 쌓아서 4 x 64 x 64 x 3 텐서를 만드세요  "
   ]
  },
  {
   "cell_type": "code",
   "execution_count": 95,
   "id": "0632974a",
   "metadata": {},
   "outputs": [
    {
     "data": {
      "text/plain": [
       "<torch._C.Generator at 0x1cc5edeceb0>"
      ]
     },
     "execution_count": 95,
     "metadata": {},
     "output_type": "execute_result"
    }
   ],
   "source": [
    "th.manual_seed(1030)\n",
    "# code : "
   ]
  },
  {
   "cell_type": "code",
   "execution_count": null,
   "id": "05f2efb9",
   "metadata": {},
   "outputs": [],
   "source": []
  }
 ],
 "metadata": {
  "kernelspec": {
   "display_name": "Python 3 (ipykernel)",
   "language": "python",
   "name": "python3"
  },
  "language_info": {
   "codemirror_mode": {
    "name": "ipython",
    "version": 3
   },
   "file_extension": ".py",
   "mimetype": "text/x-python",
   "name": "python",
   "nbconvert_exporter": "python",
   "pygments_lexer": "ipython3",
   "version": "3.7.11"
  }
 },
 "nbformat": 4,
 "nbformat_minor": 5
}
