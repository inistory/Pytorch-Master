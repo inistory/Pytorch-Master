{
 "cells": [
  {
   "cell_type": "markdown",
   "id": "a51fa754",
   "metadata": {},
   "source": [
    "![torchman](imgs/torchman.jpg)"
   ]
  },
  {
   "cell_type": "markdown",
   "id": "cbc2b93d",
   "metadata": {},
   "source": [
    "이번 차례에는 머신러닝 파이프라인을 살펴보고 데이터를 어떻게 텐서를 통해 표현하는지 살펴보겠습니다  "
   ]
  },
  {
   "cell_type": "markdown",
   "id": "40c57e23",
   "metadata": {},
   "source": [
    "# Deep learning pipeline"
   ]
  },
  {
   "cell_type": "markdown",
   "id": "538f4a8e",
   "metadata": {},
   "source": [
    "![dlpl](imgs/pipelin.png)"
   ]
  },
  {
   "cell_type": "code",
   "execution_count": 4,
   "id": "14dbc313",
   "metadata": {},
   "outputs": [],
   "source": [
    "import torch as th"
   ]
  },
  {
   "cell_type": "markdown",
   "id": "45ffe333",
   "metadata": {},
   "source": [
    "저희가 지금까지 배운 수 체계에는 스칼라, 벡터, 행렬, 텐서가 있었습니다.  \n",
    "그리고 많은 머신러닝 책에서는 아래와 같이 표기합니다.  \n",
    "여러 모듈과 메소드를 통해 파이토치에서 어떻게 텐서를 조작하는지 알아보겠습니다  "
   ]
  },
  {
   "cell_type": "markdown",
   "id": "6717381f",
   "metadata": {},
   "source": [
    "$${스칼라 : x\\quad 0 \\ (0차원) \\\\ \n",
    "벡터 : \\mathbf x \\quad n \\ (1차원) \\\\ \n",
    "행렬 : \\mathbf X \\quad m \\times n \\ (2차원) \\\\\n",
    "텐서 : \\mathcal {X} \\quad l \\times m \\times n \\times \\dots \\  (3차원 이상) }$$"
   ]
  },
  {
   "cell_type": "markdown",
   "id": "8b923721",
   "metadata": {},
   "source": [
    "먼저 들어가기 앞서서 프로그래밍 초반에 배우는 데이터의 타입을 떠올려보겠습니다.  \n",
    "대표적으로 다음과 같습니다. \n",
    "1. Int  \n",
    "2. Double  \n",
    "3. Float  "
   ]
  },
  {
   "cell_type": "markdown",
   "id": "678981a5",
   "metadata": {},
   "source": [
    "일반적으로 torch의 여러가지 텐서모듈을 통해 위의 데이터타입을 가지는 텐서를 생성할 수 있습니다 "
   ]
  },
  {
   "cell_type": "code",
   "execution_count": 5,
   "id": "d1d13fe9",
   "metadata": {},
   "outputs": [],
   "source": [
    "from torch import tensor\n",
    "from torch import FloatTensor as ftensor\n",
    "from torch import DoubleTensor as dtensor"
   ]
  },
  {
   "cell_type": "markdown",
   "id": "b27d252c",
   "metadata": {},
   "source": [
    "텐서 객체는 다음과 같은 형태로 할당하게 됩니다.  \n",
    "tensor = tensor(data, dtype=float32, device='cpu')  \n",
    "텐서 객체를 생성하기 위한 파라미터와 인자는 data, dtype, device가 있습니다.  \n"
   ]
  },
  {
   "cell_type": "markdown",
   "id": "ed13249e",
   "metadata": {},
   "source": [
    "## 1. 스칼라"
   ]
  },
  {
   "cell_type": "markdown",
   "id": "95e3f20f",
   "metadata": {},
   "source": [
    "dtype과 device를 지정하지 않으면 자동으로 dtype을 식별하고 device는 cpu로 할당하게 됩니다.   "
   ]
  },
  {
   "cell_type": "code",
   "execution_count": 13,
   "id": "b8d02d67",
   "metadata": {
    "scrolled": true
   },
   "outputs": [
    {
     "name": "stdout",
     "output_type": "stream",
     "text": [
      "tensor(3)\n",
      "torch.int64\n",
      "cpu\n",
      "tensor(99.9900, dtype=torch.float64)\n",
      "torch.float64\n",
      "cpu\n"
     ]
    }
   ],
   "source": [
    "scalar = tensor(3)\n",
    "print(scalar)\n",
    "print(scalar.dtype)\n",
    "print(scalar.device)\n",
    "\n",
    "scalar2 = tensor(99.99, dtype=float)\n",
    "print(scalar2)\n",
    "print(scalar2.dtype)\n",
    "print(scalar2.device)\n",
    "\n",
    "# 텐서 오브젝트의 dtype과 device는 모두 통일시켜야 한다!!\n",
    "# 즉, 입력 인풋의 데이터타입과 모델 가중치의 데이터 타입이 같아야 한다. \n",
    "# 또한, 입력 인풋과 모델 가중치의 계산장치가 같아야 한다."
   ]
  },
  {
   "cell_type": "code",
   "execution_count": 14,
   "id": "87c67684",
   "metadata": {},
   "outputs": [
    {
     "name": "stdout",
     "output_type": "stream",
     "text": [
      "99.99\n"
     ]
    }
   ],
   "source": [
    "print(scalar2.item())\n",
    "\n",
    "# Loss를 plotting 할 때 많이 사용."
   ]
  },
  {
   "cell_type": "markdown",
   "id": "d2515df1",
   "metadata": {},
   "source": [
    ".item()을 통하여 텐서 객체 내의 단일 스칼라 값을 뽑아낼 수 있습니다. item 메소드는 반드시 스칼라 텐서에서 호출해야 합니다"
   ]
  },
  {
   "cell_type": "markdown",
   "id": "6ca2730a",
   "metadata": {},
   "source": [
    "## 2. 벡터"
   ]
  },
  {
   "cell_type": "code",
   "execution_count": 16,
   "id": "1b4caf49",
   "metadata": {},
   "outputs": [],
   "source": [
    "import numpy as np"
   ]
  },
  {
   "cell_type": "code",
   "execution_count": 18,
   "id": "0a165dfa",
   "metadata": {},
   "outputs": [
    {
     "name": "stdout",
     "output_type": "stream",
     "text": [
      "[1 2 3 4]\n"
     ]
    }
   ],
   "source": [
    "# 벡터, 텐서\n",
    "# numpy에서는 시퀀스 데이터(리스트, 튜플)을 넣어서 벡터나 텐서를 표현함.\n",
    "vec = np.array([1, 2, 3, 4])\n",
    "print(vec)"
   ]
  },
  {
   "cell_type": "markdown",
   "id": "244a35aa",
   "metadata": {},
   "source": [
    "data에 들어갈 수 있는 컨테이너는 List, Tuple, Numpy array입니다.  \n",
    "파이토치에서 텐서 객체를 만드는 방법은 기존의 numpy와 매우 유사합니다.  "
   ]
  },
  {
   "cell_type": "code",
   "execution_count": 21,
   "id": "52e91be8",
   "metadata": {},
   "outputs": [
    {
     "name": "stdout",
     "output_type": "stream",
     "text": [
      "tensor([ 1.0000, -1.1000,  3.9000])\n",
      "torch.float32\n",
      "tensor([ 1.0000, -1.1000,  3.9000], dtype=torch.float64)\n",
      "tensor([1, 2, 3, 4], dtype=torch.int32)\n",
      "tensor([ 1, -1,  3])\n"
     ]
    }
   ],
   "source": [
    "vec1 = ftensor([1.0, -1.1, 3.9]) # list input\n",
    "vec2 = dtensor((1.0, -1.1, 3.9)) # Tuple data\n",
    "vec3 = tensor(np.array([1, 2, 3, 4])) # numpy ary input\n",
    "vec4 = tensor([1.0, -1.1, 3.9], dtype=int)\n",
    "\n",
    "print(vec1)\n",
    "print(vec1.dtype)\n",
    "print(vec2)\n",
    "print(vec3)\n",
    "print(vec4)"
   ]
  },
  {
   "cell_type": "markdown",
   "id": "7198ca85",
   "metadata": {},
   "source": [
    "## 3. 행렬"
   ]
  },
  {
   "cell_type": "markdown",
   "id": "fae67ecc",
   "metadata": {},
   "source": [
    "이제 행렬 텐서를 만들어보겠습니다.  \n",
    "데이터타입을 행렬로 다루기 시작한다면 device를 gpu로 지정하는게 좋습니다.  \n",
    "이제 데이터를 일일히 생성하기 힘드므로 rand를 사용하겠습니다.  \n",
    "rand를 잘 활용하기 위해 시드를 고정하겠습니다.  "
   ]
  },
  {
   "cell_type": "code",
   "execution_count": 25,
   "id": "18da61df",
   "metadata": {},
   "outputs": [
    {
     "name": "stdout",
     "output_type": "stream",
     "text": [
      "tensor([[0.7576, 0.2793],\n",
      "        [0.4031, 0.7347]])\n",
      "cpu\n"
     ]
    }
   ],
   "source": [
    "th.manual_seed(1) # torch.manual_seed(seed) 랜덤 생성 시드를 seed로 고정한다.\n",
    "#mat = th.rand([2, 2], device='cuda:0')\n",
    "#mat = th.rand([2, 2], device='cuda:1')\n",
    "mat = th.rand([2, 2], device='cpu')\n",
    "print(mat)\n",
    "print(mat.device)\n",
    "\n",
    "# 라인에서 ctrl + c 복사\n",
    "# ctrl + shift + left 단어선택"
   ]
  },
  {
   "cell_type": "markdown",
   "id": "6266d24f",
   "metadata": {},
   "source": [
    "![tensor](imgs/tensor.png)"
   ]
  },
  {
   "cell_type": "markdown",
   "id": "0cd6c45b",
   "metadata": {},
   "source": [
    "## 4. 텐서  \n",
    "이제 3차원 이상의 텐서를 만들어보겠습니다.  "
   ]
  },
  {
   "cell_type": "code",
   "execution_count": 27,
   "id": "e3970ad6",
   "metadata": {},
   "outputs": [
    {
     "name": "stdout",
     "output_type": "stream",
     "text": [
      "tensor([[[157,  97, 163],\n",
      "         [121, 182, 158],\n",
      "         [113,  24, 157],\n",
      "         ...,\n",
      "         [162,   7,  53],\n",
      "         [ 82, 175, 242],\n",
      "         [185, 176,  19]],\n",
      "\n",
      "        [[210, 173,  86],\n",
      "         [ 66, 164,  58],\n",
      "         [179, 225,  43],\n",
      "         ...,\n",
      "         [188,  41,  52],\n",
      "         [115, 211, 193],\n",
      "         [ 41,  37, 171]],\n",
      "\n",
      "        [[118, 141, 131],\n",
      "         [ 36, 106,  87],\n",
      "         [105, 208,   7],\n",
      "         ...,\n",
      "         [167,  45, 163],\n",
      "         [ 20, 190, 208],\n",
      "         [ 66, 150, 208]],\n",
      "\n",
      "        ...,\n",
      "\n",
      "        [[ 96,  34,   8],\n",
      "         [196, 131, 241],\n",
      "         [176, 213, 125],\n",
      "         ...,\n",
      "         [122, 118, 116],\n",
      "         [165,  25, 201],\n",
      "         [ 80, 188, 161]],\n",
      "\n",
      "        [[198,  54, 237],\n",
      "         [ 96, 153,  38],\n",
      "         [ 63, 126, 239],\n",
      "         ...,\n",
      "         [ 92,  67, 253],\n",
      "         [  1,  17, 229],\n",
      "         [184, 142,   5]],\n",
      "\n",
      "        [[122, 200, 158],\n",
      "         [244, 198, 146],\n",
      "         [ 36,  74, 244],\n",
      "         ...,\n",
      "         [241, 237,  16],\n",
      "         [ 77, 135,   0],\n",
      "         [103,  19, 163]]])\n",
      "torch.int64\n"
     ]
    }
   ],
   "source": [
    "th.manual_seed(2)\n",
    "\n",
    "# 라인에서 Ctrl + / 주석처리\n",
    "# T = th.rand([64, 64, 3], device='cuda:0')\n",
    "T = th.rand([64, 64, 3], device='cpu')\n",
    "T = T * 256\n",
    "# to() : 텐서 내의 메소드로 원하는 데이터 타입, 원하는 디바이스의 텐서를 반환해준다.\n",
    "T = T.to(int) \n",
    "print(T)\n",
    "print(T.dtype)\n",
    "\n",
    "# 퀴즈 : T 텐서의 디바이스를 cuda로 변경해서 device를 출력하세요\n",
    "T = T.to(device='cuda:0')\n",
    "print(T)\n",
    "print(T.dtype)"
   ]
  },
  {
   "cell_type": "markdown",
   "id": "bf0bd669",
   "metadata": {},
   "source": [
    "# 퀴즈 (Easy)  \n",
    "1) !nvidia-smi 를 통해 현재 gpu의 메모리 사용량을 확인하세요\n",
    "2) 크기가 (100, 100, 100)인 3차원 랜덤 텐서를 gpu 메모리에 할당하세요\n",
    "3) 다시 !nvidia-smi를 통해 gpu 메모리 사용량이 얼마나 늘었는지 계산해보세요"
   ]
  },
  {
   "cell_type": "code",
   "execution_count": 28,
   "id": "050e6e53",
   "metadata": {
    "scrolled": true
   },
   "outputs": [
    {
     "name": "stderr",
     "output_type": "stream",
     "text": [
      "'nvidia-smi' is not recognized as an internal or external command,\n",
      "operable program or batch file.\n"
     ]
    }
   ],
   "source": [
    "!nvidia-smi"
   ]
  },
  {
   "cell_type": "code",
   "execution_count": 29,
   "id": "b73d29ca",
   "metadata": {},
   "outputs": [
    {
     "data": {
      "text/plain": [
       "False"
      ]
     },
     "execution_count": 29,
     "metadata": {},
     "output_type": "execute_result"
    }
   ],
   "source": [
    "th.cuda.is_available()"
   ]
  },
  {
   "cell_type": "code",
   "execution_count": 40,
   "id": "fbd78578",
   "metadata": {},
   "outputs": [],
   "source": [
    "th.manual_seed(2)\n",
    "# T = th.rand([100, 100, 100], device='cuda:0')\n",
    "T = th.rand([100, 100, 100], device='cpu')\n",
    "\n",
    "# 퀴즈 리스트 컴프리헨션으로 100개의 텐서를 리스트에 넣으세요\n",
    "# a = []\n",
    "# for i in range(100):\n",
    "#     a.append(T)\n",
    "    \n",
    "a = [th.rand([100, 100, 100], device='cpu') for i in range(100)]"
   ]
  },
  {
   "cell_type": "code",
   "execution_count": 34,
   "id": "b4112fa9",
   "metadata": {
    "scrolled": true
   },
   "outputs": [
    {
     "name": "stderr",
     "output_type": "stream",
     "text": [
      "'nvidia-smi' is not recognized as an internal or external command,\n",
      "operable program or batch file.\n"
     ]
    }
   ],
   "source": [
    "!nvidia-smi"
   ]
  },
  {
   "cell_type": "markdown",
   "id": "dffde1f8",
   "metadata": {},
   "source": [
    "텐서를 자유자재로 조작하기"
   ]
  },
  {
   "cell_type": "code",
   "execution_count": 41,
   "id": "50ca982b",
   "metadata": {},
   "outputs": [],
   "source": [
    "import numpy as np"
   ]
  },
  {
   "cell_type": "code",
   "execution_count": null,
   "id": "94ff128b",
   "metadata": {},
   "outputs": [],
   "source": [
    "# 멤버접근 연산자 . 치고 탭 누르면 클래스 멤버들을 볼 수 있다!"
   ]
  }
 ],
 "metadata": {
  "kernelspec": {
   "display_name": "Python 3 (ipykernel)",
   "language": "python",
   "name": "python3"
  },
  "language_info": {
   "codemirror_mode": {
    "name": "ipython",
    "version": 3
   },
   "file_extension": ".py",
   "mimetype": "text/x-python",
   "name": "python",
   "nbconvert_exporter": "python",
   "pygments_lexer": "ipython3",
   "version": "3.7.11"
  }
 },
 "nbformat": 4,
 "nbformat_minor": 5
}
